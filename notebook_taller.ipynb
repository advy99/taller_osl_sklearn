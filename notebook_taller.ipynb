{
 "cells": [
  {
   "cell_type": "markdown",
   "id": "28a5de87",
   "metadata": {},
   "source": [
    "# Instalación de módulos\n",
    "\n",
    "\n",
    "https://scikit-learn.org/stable/index.html\n",
    "\n",
    "\n",
    "```sh\n",
    "pip install -U scikit-learn\n",
    "```\n",
    "\n",
    "Esto nos instalará algunas dependencias que también utilizaremos, algunas de las más destacadas son:\n",
    "\n",
    "- NumPy\n",
    "- Pandas\n",
    "- MatplotLib"
   ]
  },
  {
   "cell_type": "code",
   "execution_count": 74,
   "id": "ee65d806",
   "metadata": {},
   "outputs": [],
   "source": [
    "import sklearn as skl\n",
    "import pandas as pd\n",
    "import numpy as np\n",
    "import matplotlib\n",
    "import matplotlib.pyplot as plt"
   ]
  },
  {
   "cell_type": "markdown",
   "id": "1e4aff52",
   "metadata": {},
   "source": [
    "## Lectura de datos de sklearn"
   ]
  },
  {
   "cell_type": "code",
   "execution_count": 57,
   "id": "24675702",
   "metadata": {},
   "outputs": [],
   "source": [
    "import sklearn.datasets\n",
    "\n",
    "iris_dataset = skl.datasets.load_iris(as_frame = True)\n"
   ]
  },
  {
   "cell_type": "code",
   "execution_count": 58,
   "id": "a5841f8a",
   "metadata": {},
   "outputs": [
    {
     "name": "stdout",
     "output_type": "stream",
     "text": [
      "['sepal length (cm)', 'sepal width (cm)', 'petal length (cm)', 'petal width (cm)']\n"
     ]
    }
   ],
   "source": [
    "print(iris_dataset.feature_names)"
   ]
  },
  {
   "cell_type": "code",
   "execution_count": 59,
   "id": "d3680a18",
   "metadata": {},
   "outputs": [
    {
     "name": "stdout",
     "output_type": "stream",
     "text": [
      "['setosa' 'versicolor' 'virginica']\n"
     ]
    }
   ],
   "source": [
    "print(iris_dataset.target_names)"
   ]
  },
  {
   "cell_type": "markdown",
   "id": "7b0d0b16",
   "metadata": {},
   "source": [
    "Podemos renombrar los columnas para que sea más sencillo el uso:"
   ]
  },
  {
   "cell_type": "code",
   "execution_count": 60,
   "id": "f02ce079",
   "metadata": {},
   "outputs": [],
   "source": [
    "iris_dataset.frame = iris_dataset.frame.rename(columns = {\"sepal length (cm)\": \"SepalLength\", \n",
    "                               \"sepal width (cm)\": \"SepalWidth\",\n",
    "                               \"petal length (cm)\": \"PetalLength\",\n",
    "                               \"petal width (cm)\": \"PetalWidth\",\n",
    "                               \"target\": \"Class\"\n",
    "                              })"
   ]
  },
  {
   "cell_type": "code",
   "execution_count": 61,
   "id": "af43d7cc",
   "metadata": {},
   "outputs": [
    {
     "data": {
      "text/html": [
       "<div>\n",
       "<style scoped>\n",
       "    .dataframe tbody tr th:only-of-type {\n",
       "        vertical-align: middle;\n",
       "    }\n",
       "\n",
       "    .dataframe tbody tr th {\n",
       "        vertical-align: top;\n",
       "    }\n",
       "\n",
       "    .dataframe thead th {\n",
       "        text-align: right;\n",
       "    }\n",
       "</style>\n",
       "<table border=\"1\" class=\"dataframe\">\n",
       "  <thead>\n",
       "    <tr style=\"text-align: right;\">\n",
       "      <th></th>\n",
       "      <th>SepalLength</th>\n",
       "      <th>SepalWidth</th>\n",
       "      <th>PetalLength</th>\n",
       "      <th>PetalWidth</th>\n",
       "      <th>Class</th>\n",
       "    </tr>\n",
       "  </thead>\n",
       "  <tbody>\n",
       "    <tr>\n",
       "      <th>0</th>\n",
       "      <td>5.1</td>\n",
       "      <td>3.5</td>\n",
       "      <td>1.4</td>\n",
       "      <td>0.2</td>\n",
       "      <td>0</td>\n",
       "    </tr>\n",
       "    <tr>\n",
       "      <th>1</th>\n",
       "      <td>4.9</td>\n",
       "      <td>3.0</td>\n",
       "      <td>1.4</td>\n",
       "      <td>0.2</td>\n",
       "      <td>0</td>\n",
       "    </tr>\n",
       "    <tr>\n",
       "      <th>2</th>\n",
       "      <td>4.7</td>\n",
       "      <td>3.2</td>\n",
       "      <td>1.3</td>\n",
       "      <td>0.2</td>\n",
       "      <td>0</td>\n",
       "    </tr>\n",
       "    <tr>\n",
       "      <th>3</th>\n",
       "      <td>4.6</td>\n",
       "      <td>3.1</td>\n",
       "      <td>1.5</td>\n",
       "      <td>0.2</td>\n",
       "      <td>0</td>\n",
       "    </tr>\n",
       "    <tr>\n",
       "      <th>4</th>\n",
       "      <td>5.0</td>\n",
       "      <td>3.6</td>\n",
       "      <td>1.4</td>\n",
       "      <td>0.2</td>\n",
       "      <td>0</td>\n",
       "    </tr>\n",
       "    <tr>\n",
       "      <th>...</th>\n",
       "      <td>...</td>\n",
       "      <td>...</td>\n",
       "      <td>...</td>\n",
       "      <td>...</td>\n",
       "      <td>...</td>\n",
       "    </tr>\n",
       "    <tr>\n",
       "      <th>145</th>\n",
       "      <td>6.7</td>\n",
       "      <td>3.0</td>\n",
       "      <td>5.2</td>\n",
       "      <td>2.3</td>\n",
       "      <td>2</td>\n",
       "    </tr>\n",
       "    <tr>\n",
       "      <th>146</th>\n",
       "      <td>6.3</td>\n",
       "      <td>2.5</td>\n",
       "      <td>5.0</td>\n",
       "      <td>1.9</td>\n",
       "      <td>2</td>\n",
       "    </tr>\n",
       "    <tr>\n",
       "      <th>147</th>\n",
       "      <td>6.5</td>\n",
       "      <td>3.0</td>\n",
       "      <td>5.2</td>\n",
       "      <td>2.0</td>\n",
       "      <td>2</td>\n",
       "    </tr>\n",
       "    <tr>\n",
       "      <th>148</th>\n",
       "      <td>6.2</td>\n",
       "      <td>3.4</td>\n",
       "      <td>5.4</td>\n",
       "      <td>2.3</td>\n",
       "      <td>2</td>\n",
       "    </tr>\n",
       "    <tr>\n",
       "      <th>149</th>\n",
       "      <td>5.9</td>\n",
       "      <td>3.0</td>\n",
       "      <td>5.1</td>\n",
       "      <td>1.8</td>\n",
       "      <td>2</td>\n",
       "    </tr>\n",
       "  </tbody>\n",
       "</table>\n",
       "<p>150 rows × 5 columns</p>\n",
       "</div>"
      ],
      "text/plain": [
       "     SepalLength  SepalWidth  PetalLength  PetalWidth  Class\n",
       "0            5.1         3.5          1.4         0.2      0\n",
       "1            4.9         3.0          1.4         0.2      0\n",
       "2            4.7         3.2          1.3         0.2      0\n",
       "3            4.6         3.1          1.5         0.2      0\n",
       "4            5.0         3.6          1.4         0.2      0\n",
       "..           ...         ...          ...         ...    ...\n",
       "145          6.7         3.0          5.2         2.3      2\n",
       "146          6.3         2.5          5.0         1.9      2\n",
       "147          6.5         3.0          5.2         2.0      2\n",
       "148          6.2         3.4          5.4         2.3      2\n",
       "149          5.9         3.0          5.1         1.8      2\n",
       "\n",
       "[150 rows x 5 columns]"
      ]
     },
     "execution_count": 61,
     "metadata": {},
     "output_type": "execute_result"
    }
   ],
   "source": [
    "iris_dataset.frame"
   ]
  },
  {
   "cell_type": "markdown",
   "id": "ffc4a366",
   "metadata": {},
   "source": [
    "## Lectura de datos usando Pandas\n",
    "\n",
    "Vamos a leer el conjunto de datos [Auto MPG](https://archive-beta.ics.uci.edu/ml/datasets/auto+mpg), del UCI ML Repository."
   ]
  },
  {
   "cell_type": "code",
   "execution_count": 62,
   "id": "4e291895",
   "metadata": {},
   "outputs": [],
   "source": [
    "MPG_PATH = \"datasets/auto-mpg.data\"\n",
    "\n",
    "nombres_columnas_mpg = [\"mpg\", \"cylinders\", \"displacement\", \"horsepower\", \"weigth\", \"acceleration\", \"model year\", \"origin\", \"car name\"]\n",
    "\n",
    "mpg_dataset = pd.read_csv(MPG_PATH, sep = '\\s+', header = None, names = nombres_columnas_mpg)"
   ]
  },
  {
   "cell_type": "code",
   "execution_count": 63,
   "id": "0ef8e2cf",
   "metadata": {},
   "outputs": [
    {
     "data": {
      "text/html": [
       "<div>\n",
       "<style scoped>\n",
       "    .dataframe tbody tr th:only-of-type {\n",
       "        vertical-align: middle;\n",
       "    }\n",
       "\n",
       "    .dataframe tbody tr th {\n",
       "        vertical-align: top;\n",
       "    }\n",
       "\n",
       "    .dataframe thead th {\n",
       "        text-align: right;\n",
       "    }\n",
       "</style>\n",
       "<table border=\"1\" class=\"dataframe\">\n",
       "  <thead>\n",
       "    <tr style=\"text-align: right;\">\n",
       "      <th></th>\n",
       "      <th>mpg</th>\n",
       "      <th>cylinders</th>\n",
       "      <th>displacement</th>\n",
       "      <th>horsepower</th>\n",
       "      <th>weigth</th>\n",
       "      <th>acceleration</th>\n",
       "      <th>model year</th>\n",
       "      <th>origin</th>\n",
       "      <th>car name</th>\n",
       "    </tr>\n",
       "  </thead>\n",
       "  <tbody>\n",
       "    <tr>\n",
       "      <th>0</th>\n",
       "      <td>18.0</td>\n",
       "      <td>8</td>\n",
       "      <td>307.0</td>\n",
       "      <td>130.0</td>\n",
       "      <td>3504.0</td>\n",
       "      <td>12.0</td>\n",
       "      <td>70</td>\n",
       "      <td>1</td>\n",
       "      <td>chevrolet chevelle malibu</td>\n",
       "    </tr>\n",
       "    <tr>\n",
       "      <th>1</th>\n",
       "      <td>15.0</td>\n",
       "      <td>8</td>\n",
       "      <td>350.0</td>\n",
       "      <td>165.0</td>\n",
       "      <td>3693.0</td>\n",
       "      <td>11.5</td>\n",
       "      <td>70</td>\n",
       "      <td>1</td>\n",
       "      <td>buick skylark 320</td>\n",
       "    </tr>\n",
       "    <tr>\n",
       "      <th>2</th>\n",
       "      <td>18.0</td>\n",
       "      <td>8</td>\n",
       "      <td>318.0</td>\n",
       "      <td>150.0</td>\n",
       "      <td>3436.0</td>\n",
       "      <td>11.0</td>\n",
       "      <td>70</td>\n",
       "      <td>1</td>\n",
       "      <td>plymouth satellite</td>\n",
       "    </tr>\n",
       "    <tr>\n",
       "      <th>3</th>\n",
       "      <td>16.0</td>\n",
       "      <td>8</td>\n",
       "      <td>304.0</td>\n",
       "      <td>150.0</td>\n",
       "      <td>3433.0</td>\n",
       "      <td>12.0</td>\n",
       "      <td>70</td>\n",
       "      <td>1</td>\n",
       "      <td>amc rebel sst</td>\n",
       "    </tr>\n",
       "    <tr>\n",
       "      <th>4</th>\n",
       "      <td>17.0</td>\n",
       "      <td>8</td>\n",
       "      <td>302.0</td>\n",
       "      <td>140.0</td>\n",
       "      <td>3449.0</td>\n",
       "      <td>10.5</td>\n",
       "      <td>70</td>\n",
       "      <td>1</td>\n",
       "      <td>ford torino</td>\n",
       "    </tr>\n",
       "    <tr>\n",
       "      <th>...</th>\n",
       "      <td>...</td>\n",
       "      <td>...</td>\n",
       "      <td>...</td>\n",
       "      <td>...</td>\n",
       "      <td>...</td>\n",
       "      <td>...</td>\n",
       "      <td>...</td>\n",
       "      <td>...</td>\n",
       "      <td>...</td>\n",
       "    </tr>\n",
       "    <tr>\n",
       "      <th>393</th>\n",
       "      <td>27.0</td>\n",
       "      <td>4</td>\n",
       "      <td>140.0</td>\n",
       "      <td>86.00</td>\n",
       "      <td>2790.0</td>\n",
       "      <td>15.6</td>\n",
       "      <td>82</td>\n",
       "      <td>1</td>\n",
       "      <td>ford mustang gl</td>\n",
       "    </tr>\n",
       "    <tr>\n",
       "      <th>394</th>\n",
       "      <td>44.0</td>\n",
       "      <td>4</td>\n",
       "      <td>97.0</td>\n",
       "      <td>52.00</td>\n",
       "      <td>2130.0</td>\n",
       "      <td>24.6</td>\n",
       "      <td>82</td>\n",
       "      <td>2</td>\n",
       "      <td>vw pickup</td>\n",
       "    </tr>\n",
       "    <tr>\n",
       "      <th>395</th>\n",
       "      <td>32.0</td>\n",
       "      <td>4</td>\n",
       "      <td>135.0</td>\n",
       "      <td>84.00</td>\n",
       "      <td>2295.0</td>\n",
       "      <td>11.6</td>\n",
       "      <td>82</td>\n",
       "      <td>1</td>\n",
       "      <td>dodge rampage</td>\n",
       "    </tr>\n",
       "    <tr>\n",
       "      <th>396</th>\n",
       "      <td>28.0</td>\n",
       "      <td>4</td>\n",
       "      <td>120.0</td>\n",
       "      <td>79.00</td>\n",
       "      <td>2625.0</td>\n",
       "      <td>18.6</td>\n",
       "      <td>82</td>\n",
       "      <td>1</td>\n",
       "      <td>ford ranger</td>\n",
       "    </tr>\n",
       "    <tr>\n",
       "      <th>397</th>\n",
       "      <td>31.0</td>\n",
       "      <td>4</td>\n",
       "      <td>119.0</td>\n",
       "      <td>82.00</td>\n",
       "      <td>2720.0</td>\n",
       "      <td>19.4</td>\n",
       "      <td>82</td>\n",
       "      <td>1</td>\n",
       "      <td>chevy s-10</td>\n",
       "    </tr>\n",
       "  </tbody>\n",
       "</table>\n",
       "<p>398 rows × 9 columns</p>\n",
       "</div>"
      ],
      "text/plain": [
       "      mpg  cylinders  displacement horsepower  weigth  acceleration  \\\n",
       "0    18.0          8         307.0      130.0  3504.0          12.0   \n",
       "1    15.0          8         350.0      165.0  3693.0          11.5   \n",
       "2    18.0          8         318.0      150.0  3436.0          11.0   \n",
       "3    16.0          8         304.0      150.0  3433.0          12.0   \n",
       "4    17.0          8         302.0      140.0  3449.0          10.5   \n",
       "..    ...        ...           ...        ...     ...           ...   \n",
       "393  27.0          4         140.0      86.00  2790.0          15.6   \n",
       "394  44.0          4          97.0      52.00  2130.0          24.6   \n",
       "395  32.0          4         135.0      84.00  2295.0          11.6   \n",
       "396  28.0          4         120.0      79.00  2625.0          18.6   \n",
       "397  31.0          4         119.0      82.00  2720.0          19.4   \n",
       "\n",
       "     model year  origin                   car name  \n",
       "0            70       1  chevrolet chevelle malibu  \n",
       "1            70       1          buick skylark 320  \n",
       "2            70       1         plymouth satellite  \n",
       "3            70       1              amc rebel sst  \n",
       "4            70       1                ford torino  \n",
       "..          ...     ...                        ...  \n",
       "393          82       1            ford mustang gl  \n",
       "394          82       2                  vw pickup  \n",
       "395          82       1              dodge rampage  \n",
       "396          82       1                ford ranger  \n",
       "397          82       1                 chevy s-10  \n",
       "\n",
       "[398 rows x 9 columns]"
      ]
     },
     "execution_count": 63,
     "metadata": {},
     "output_type": "execute_result"
    }
   ],
   "source": [
    "mpg_dataset"
   ]
  },
  {
   "cell_type": "markdown",
   "id": "6d9c9d1a",
   "metadata": {},
   "source": [
    "## Análisis de los datos con Matplotlib"
   ]
  },
  {
   "cell_type": "code",
   "execution_count": 83,
   "id": "6cf02b38",
   "metadata": {
    "scrolled": false
   },
   "outputs": [
    {
     "data": {
      "image/png": "[encoded data removed]",
      "text/plain": [
       "<Figure size 720x720 with 1 Axes>"
      ]
     },
     "metadata": {
      "needs_background": "light"
     },
     "output_type": "display_data"
    },
    {
     "data": {
      "text/plain": [
       "<Figure size 432x288 with 0 Axes>"
      ]
     },
     "metadata": {},
     "output_type": "display_data"
    },
    {
     "data": {
      "image/png": "[encoded data removed]",
      "text/plain": [
       "<Figure size 720x720 with 1 Axes>"
      ]
     },
     "metadata": {
      "needs_background": "light"
     },
     "output_type": "display_data"
    },
    {
     "data": {
      "text/plain": [
       "<Figure size 432x288 with 0 Axes>"
      ]
     },
     "metadata": {},
     "output_type": "display_data"
    },
    {
     "data": {
      "image/png": "[encoded data removed]",
      "text/plain": [
       "<Figure size 720x720 with 1 Axes>"
      ]
     },
     "metadata": {
      "needs_background": "light"
     },
     "output_type": "display_data"
    },
    {
     "data": {
      "text/plain": [
       "<Figure size 432x288 with 0 Axes>"
      ]
     },
     "metadata": {},
     "output_type": "display_data"
    },
    {
     "data": {
      "image/png": "[encoded data removed]",
      "text/plain": [
       "<Figure size 720x720 with 1 Axes>"
      ]
     },
     "metadata": {
      "needs_background": "light"
     },
     "output_type": "display_data"
    },
    {
     "data": {
      "text/plain": [
       "<Figure size 432x288 with 0 Axes>"
      ]
     },
     "metadata": {},
     "output_type": "display_data"
    }
   ],
   "source": [
    "iris_setosa = iris_dataset.frame[iris_dataset.frame[\"Class\"] == 0]\n",
    "iris_versicolor = iris_dataset.frame[iris_dataset.frame[\"Class\"] == 1]\n",
    "iris_virginica = iris_dataset.frame[iris_dataset.frame[\"Class\"] == 2]\n",
    "\n",
    "colores_grafico = [\"red\", \"blue\", \"green\"]\n",
    "\n",
    "\n",
    "for column in iris_dataset.frame.columns[:-1]:\n",
    "    \n",
    "    plt.figure(figsize = (10, 10))\n",
    "    plt.hist([iris_setosa[column], iris_versicolor[column], iris_virginica[column]], bins = 20, color = colores_grafico)\n",
    "    plt.title(\"Histograma de la característica {} dependiendo de la clase\".format(column))\n",
    "    plt.xlabel(\"Valor de {}\".format(column))\n",
    "    plt.ylabel(\"Número de observaciones\")\n",
    "\n",
    "    handles = [matplotlib.patches.Rectangle((0, 0), 1, 1, color=c, ec=\"k\") for c in colores_grafico]\n",
    "    labels = [\"Setosa\", \"Versicolor\", \"Virginica\"]\n",
    "    plt.legend(handles, labels)\n",
    "\n",
    "    plt.show()\n",
    "    plt.clf()"
   ]
  },
  {
   "cell_type": "code",
   "execution_count": 85,
   "id": "6112a042",
   "metadata": {},
   "outputs": [
    {
     "data": {
      "image/png": "[encoded data removed]",
      "text/plain": [
       "<Figure size 720x720 with 1 Axes>"
      ]
     },
     "metadata": {
      "needs_background": "light"
     },
     "output_type": "display_data"
    },
    {
     "data": {
      "text/plain": [
       "<Figure size 432x288 with 0 Axes>"
      ]
     },
     "metadata": {},
     "output_type": "display_data"
    }
   ],
   "source": [
    "\n",
    "plt.figure(figsize = (10, 10))\n",
    "plt.scatter(iris_setosa[\"PetalLength\"], iris_setosa[\"PetalWidth\"], color = \"red\")\n",
    "plt.scatter(iris_versicolor[\"PetalLength\"], iris_versicolor[\"PetalWidth\"], color = \"blue\")\n",
    "plt.scatter(iris_virginica[\"PetalLength\"], iris_virginica[\"PetalWidth\"], color = \"green\")\n",
    "\n",
    "plt.title(\"\")\n",
    "plt.xlabel(\"Valor de PetalLength\")\n",
    "plt.ylabel(\"Valor de PetalWidth\")\n",
    "\n",
    "handles = [matplotlib.patches.Rectangle((0, 0), 1, 1, color=c, ec=\"k\") for c in colores_grafico]\n",
    "labels = [\"Setosa\", \"Versicolor\", \"Virginica\"]\n",
    "plt.legend(handles, labels)\n",
    "\n",
    "plt.show()\n",
    "plt.clf()"
   ]
  },
  {
   "cell_type": "code",
   "execution_count": 89,
   "id": "3edf143e",
   "metadata": {},
   "outputs": [
    {
     "data": {
      "text/html": [
       "<style type=\"text/css\">\n",
       "#T_cfba6_row0_col0, #T_cfba6_row1_col1, #T_cfba6_row2_col2, #T_cfba6_row3_col3, #T_cfba6_row4_col4 {\n",
       "  background-color: #b40426;\n",
       "  color: #f1f1f1;\n",
       "}\n",
       "#T_cfba6_row0_col1 {\n",
       "  background-color: #81a4fb;\n",
       "  color: #f1f1f1;\n",
       "}\n",
       "#T_cfba6_row0_col2 {\n",
       "  background-color: #d24b40;\n",
       "  color: #f1f1f1;\n",
       "}\n",
       "#T_cfba6_row0_col3 {\n",
       "  background-color: #e0654f;\n",
       "  color: #f1f1f1;\n",
       "}\n",
       "#T_cfba6_row0_col4 {\n",
       "  background-color: #e46e56;\n",
       "  color: #f1f1f1;\n",
       "}\n",
       "#T_cfba6_row1_col0, #T_cfba6_row1_col2, #T_cfba6_row1_col3, #T_cfba6_row1_col4, #T_cfba6_row2_col1, #T_cfba6_row4_col1 {\n",
       "  background-color: #3b4cc0;\n",
       "  color: #f1f1f1;\n",
       "}\n",
       "#T_cfba6_row2_col0 {\n",
       "  background-color: #da5a49;\n",
       "  color: #f1f1f1;\n",
       "}\n",
       "#T_cfba6_row2_col3, #T_cfba6_row3_col2 {\n",
       "  background-color: #bd1f2d;\n",
       "  color: #f1f1f1;\n",
       "}\n",
       "#T_cfba6_row2_col4, #T_cfba6_row4_col2 {\n",
       "  background-color: #c12b30;\n",
       "  color: #f1f1f1;\n",
       "}\n",
       "#T_cfba6_row3_col0 {\n",
       "  background-color: #e67259;\n",
       "  color: #f1f1f1;\n",
       "}\n",
       "#T_cfba6_row3_col1 {\n",
       "  background-color: #485fd1;\n",
       "  color: #f1f1f1;\n",
       "}\n",
       "#T_cfba6_row3_col4 {\n",
       "  background-color: #be242e;\n",
       "  color: #f1f1f1;\n",
       "}\n",
       "#T_cfba6_row4_col0 {\n",
       "  background-color: #ec8165;\n",
       "  color: #f1f1f1;\n",
       "}\n",
       "#T_cfba6_row4_col3 {\n",
       "  background-color: #c0282f;\n",
       "  color: #f1f1f1;\n",
       "}\n",
       "</style>\n",
       "<table id=\"T_cfba6\">\n",
       "  <thead>\n",
       "    <tr>\n",
       "      <th class=\"blank level0\" >&nbsp;</th>\n",
       "      <th id=\"T_cfba6_level0_col0\" class=\"col_heading level0 col0\" >SepalLength</th>\n",
       "      <th id=\"T_cfba6_level0_col1\" class=\"col_heading level0 col1\" >SepalWidth</th>\n",
       "      <th id=\"T_cfba6_level0_col2\" class=\"col_heading level0 col2\" >PetalLength</th>\n",
       "      <th id=\"T_cfba6_level0_col3\" class=\"col_heading level0 col3\" >PetalWidth</th>\n",
       "      <th id=\"T_cfba6_level0_col4\" class=\"col_heading level0 col4\" >Class</th>\n",
       "    </tr>\n",
       "  </thead>\n",
       "  <tbody>\n",
       "    <tr>\n",
       "      <th id=\"T_cfba6_level0_row0\" class=\"row_heading level0 row0\" >SepalLength</th>\n",
       "      <td id=\"T_cfba6_row0_col0\" class=\"data row0 col0\" >1.000000</td>\n",
       "      <td id=\"T_cfba6_row0_col1\" class=\"data row0 col1\" >-0.117570</td>\n",
       "      <td id=\"T_cfba6_row0_col2\" class=\"data row0 col2\" >0.871754</td>\n",
       "      <td id=\"T_cfba6_row0_col3\" class=\"data row0 col3\" >0.817941</td>\n",
       "      <td id=\"T_cfba6_row0_col4\" class=\"data row0 col4\" >0.782561</td>\n",
       "    </tr>\n",
       "    <tr>\n",
       "      <th id=\"T_cfba6_level0_row1\" class=\"row_heading level0 row1\" >SepalWidth</th>\n",
       "      <td id=\"T_cfba6_row1_col0\" class=\"data row1 col0\" >-0.117570</td>\n",
       "      <td id=\"T_cfba6_row1_col1\" class=\"data row1 col1\" >1.000000</td>\n",
       "      <td id=\"T_cfba6_row1_col2\" class=\"data row1 col2\" >-0.428440</td>\n",
       "      <td id=\"T_cfba6_row1_col3\" class=\"data row1 col3\" >-0.366126</td>\n",
       "      <td id=\"T_cfba6_row1_col4\" class=\"data row1 col4\" >-0.426658</td>\n",
       "    </tr>\n",
       "    <tr>\n",
       "      <th id=\"T_cfba6_level0_row2\" class=\"row_heading level0 row2\" >PetalLength</th>\n",
       "      <td id=\"T_cfba6_row2_col0\" class=\"data row2 col0\" >0.871754</td>\n",
       "      <td id=\"T_cfba6_row2_col1\" class=\"data row2 col1\" >-0.428440</td>\n",
       "      <td id=\"T_cfba6_row2_col2\" class=\"data row2 col2\" >1.000000</td>\n",
       "      <td id=\"T_cfba6_row2_col3\" class=\"data row2 col3\" >0.962865</td>\n",
       "      <td id=\"T_cfba6_row2_col4\" class=\"data row2 col4\" >0.949035</td>\n",
       "    </tr>\n",
       "    <tr>\n",
       "      <th id=\"T_cfba6_level0_row3\" class=\"row_heading level0 row3\" >PetalWidth</th>\n",
       "      <td id=\"T_cfba6_row3_col0\" class=\"data row3 col0\" >0.817941</td>\n",
       "      <td id=\"T_cfba6_row3_col1\" class=\"data row3 col1\" >-0.366126</td>\n",
       "      <td id=\"T_cfba6_row3_col2\" class=\"data row3 col2\" >0.962865</td>\n",
       "      <td id=\"T_cfba6_row3_col3\" class=\"data row3 col3\" >1.000000</td>\n",
       "      <td id=\"T_cfba6_row3_col4\" class=\"data row3 col4\" >0.956547</td>\n",
       "    </tr>\n",
       "    <tr>\n",
       "      <th id=\"T_cfba6_level0_row4\" class=\"row_heading level0 row4\" >Class</th>\n",
       "      <td id=\"T_cfba6_row4_col0\" class=\"data row4 col0\" >0.782561</td>\n",
       "      <td id=\"T_cfba6_row4_col1\" class=\"data row4 col1\" >-0.426658</td>\n",
       "      <td id=\"T_cfba6_row4_col2\" class=\"data row4 col2\" >0.949035</td>\n",
       "      <td id=\"T_cfba6_row4_col3\" class=\"data row4 col3\" >0.956547</td>\n",
       "      <td id=\"T_cfba6_row4_col4\" class=\"data row4 col4\" >1.000000</td>\n",
       "    </tr>\n",
       "  </tbody>\n",
       "</table>\n"
      ],
      "text/plain": [
       "<pandas.io.formats.style.Styler at 0x7f750b988820>"
      ]
     },
     "execution_count": 89,
     "metadata": {},
     "output_type": "execute_result"
    }
   ],
   "source": [
    "matriz_correlacion = iris_dataset.frame.corr()\n",
    "\n",
    "matriz_correlacion.style.background_gradient(cmap='coolwarm')"
   ]
  },
  {
   "cell_type": "markdown",
   "id": "f640ea1c",
   "metadata": {},
   "source": [
    "## Preprocesamiento de los datos"
   ]
  },
  {
   "cell_type": "markdown",
   "id": "fee189cd",
   "metadata": {},
   "source": [
    "### Normalización de los datos"
   ]
  },
  {
   "cell_type": "markdown",
   "id": "409d9de9",
   "metadata": {},
   "source": [
    "### Imputación de valores perdidos"
   ]
  },
  {
   "cell_type": "markdown",
   "id": "ea8c6cd7",
   "metadata": {},
   "source": [
    "## Entrenamiento, test y validación"
   ]
  },
  {
   "cell_type": "code",
   "execution_count": null,
   "id": "16e2c4b9",
   "metadata": {},
   "outputs": [],
   "source": []
  }
 ],
 "metadata": {
  "kernelspec": {
   "display_name": "Python 3 (ipykernel)",
   "language": "python",
   "name": "python3"
  },
  "language_info": {
   "codemirror_mode": {
    "name": "ipython",
    "version": 3
   },
   "file_extension": ".py",
   "mimetype": "text/x-python",
   "name": "python",
   "nbconvert_exporter": "python",
   "pygments_lexer": "ipython3",
   "version": "3.10.4"
  }
 },
 "nbformat": 4,
 "nbformat_minor": 5
}
