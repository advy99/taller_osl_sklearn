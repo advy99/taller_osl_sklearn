{
 "cells": [
  {
   "cell_type": "markdown",
   "id": "28a5de87",
   "metadata": {},
   "source": [
    "# Instalación de módulos\n",
    "\n",
    "\n",
    "https://scikit-learn.org/stable/index.html\n",
    "\n",
    "\n",
    "```sh\n",
    "pip install -U scikit-learn\n",
    "```\n",
    "\n",
    "Esto nos instalará algunas dependencias que también utilizaremos, algunas de las más destacadas son:\n",
    "\n",
    "- NumPy\n",
    "- Pandas\n",
    "- MatplotLib"
   ]
  },
  {
   "cell_type": "code",
   "execution_count": null,
   "id": "ee65d806",
   "metadata": {},
   "outputs": [],
   "source": [
    "import sklearn as skl"
   ]
  }
 ],
 "metadata": {
  "kernelspec": {
   "display_name": "Python 3 (ipykernel)",
   "language": "python",
   "name": "python3"
  },
  "language_info": {
   "codemirror_mode": {
    "name": "ipython",
    "version": 3
   },
   "file_extension": ".py",
   "mimetype": "text/x-python",
   "name": "python",
   "nbconvert_exporter": "python",
   "pygments_lexer": "ipython3",
   "version": "3.10.4"
  }
 },
 "nbformat": 4,
 "nbformat_minor": 5
}
